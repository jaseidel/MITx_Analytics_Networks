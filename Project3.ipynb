{
 "metadata": {
  "language_info": {
   "codemirror_mode": {
    "name": "ipython",
    "version": 3
   },
   "file_extension": ".py",
   "mimetype": "text/x-python",
   "name": "python",
   "nbconvert_exporter": "python",
   "pygments_lexer": "ipython3",
   "version": "3.7.10-final"
  },
  "orig_nbformat": 2,
  "kernelspec": {
   "name": "python3710jvsc74a57bd0ee401f05df2223de0ac1e801f852c027b1438a7cfedcf8436a7a3101bfb818fd",
   "display_name": "Python 3.7.10 64-bit ('mitx': conda)"
  },
  "metadata": {
   "interpreter": {
    "hash": "12b1ce54531b8f7232de855dcf3f315f747ff6a3979fb643435125b77df212b2"
   }
  }
 },
 "nbformat": 4,
 "nbformat_minor": 2,
 "cells": [
  {
   "cell_type": "code",
   "execution_count": 17,
   "metadata": {},
   "outputs": [],
   "source": [
    "import pandas as pd "
   ]
  },
  {
   "cell_type": "code",
   "execution_count": 36,
   "metadata": {},
   "outputs": [],
   "source": [
    "df = pd.read_csv('./Cooffending/Cooffending.csv')"
   ]
  },
  {
   "cell_type": "code",
   "execution_count": 37,
   "metadata": {},
   "outputs": [
    {
     "output_type": "execute_result",
     "data": {
      "text/plain": [
       "<bound method NDFrame.head of          OffenderIdentifier OffenderGender  CrimeIdentifier  CrimeType1  \\\n",
       "0                         1              F          1085034      3530.0   \n",
       "1                         2              F          1431379      1430.0   \n",
       "2                         4              M           167174      1430.0   \n",
       "3                         5              M          1179096      1420.0   \n",
       "4                        17              M          1270690      1625.0   \n",
       "...                     ...            ...              ...         ...   \n",
       "1280454              670532              F          1112491      1330.0   \n",
       "1280455              670533              M            78081     21702.0   \n",
       "1280456              670534              M           187904     21201.0   \n",
       "1280457              670535              M           523837     21704.0   \n",
       "1280458              670536              M          1632652     21101.0   \n",
       "\n",
       "         CrimeType2  CrimeType3  CrimeType4  Municipality  CrimeLocation  \\\n",
       "0               NaN         NaN         NaN         58227            2.0   \n",
       "1               NaN         NaN         NaN         94068            5.0   \n",
       "2           21702.0         NaN         NaN         49058            2.0   \n",
       "3               NaN         NaN         NaN         65005           71.0   \n",
       "4               NaN         NaN         NaN         23027            NaN   \n",
       "...             ...         ...         ...           ...            ...   \n",
       "1280454         NaN         NaN         NaN         58227           34.0   \n",
       "1280455         NaN         NaN         NaN         46075           10.0   \n",
       "1280456     21702.0         NaN         NaN         31015            1.0   \n",
       "1280457         NaN         NaN         NaN         98806            1.0   \n",
       "1280458         NaN         NaN         NaN         97802            1.0   \n",
       "\n",
       "         NumberYouthOffenders  NumberAdultOffenders   CrimeDate  CrimeYear  \n",
       "0                           0                     1  12/17/2005       2005  \n",
       "1                           0                     1  04/23/2008       2008  \n",
       "2                           0                     1  03/06/2008       2008  \n",
       "3                           0                     1  08/21/2008       2008  \n",
       "4                           0                     3  04/30/2003       2003  \n",
       "...                       ...                   ...         ...        ...  \n",
       "1280454                     0                     1  03/26/2009       2009  \n",
       "1280455                     0                     4  06/29/2009       2009  \n",
       "1280456                     0                     4  03/16/2009       2009  \n",
       "1280457                     0                     1  10/18/2009       2009  \n",
       "1280458                     0                     2  11/24/2008       2008  \n",
       "\n",
       "[1280459 rows x 13 columns]>"
      ]
     },
     "metadata": {},
     "execution_count": 37
    }
   ],
   "source": [
    "df.head"
   ]
  },
  {
   "cell_type": "code",
   "execution_count": 47,
   "metadata": {},
   "outputs": [],
   "source": [
    "net_df = df[['CrimeIdentifier','OffenderIdentifier', 'CrimeYear']]\n",
    "net_df = net_df.drop_duplicates()"
   ]
  },
  {
   "cell_type": "code",
   "execution_count": 48,
   "metadata": {},
   "outputs": [
    {
     "output_type": "execute_result",
     "data": {
      "text/plain": [
       "<bound method NDFrame.head of          CrimeIdentifier  OffenderIdentifier  CrimeYear\n",
       "0                1085034                   1       2005\n",
       "1                1431379                   2       2008\n",
       "2                 167174                   4       2008\n",
       "3                1179096                   5       2008\n",
       "4                1270690                  17       2003\n",
       "...                  ...                 ...        ...\n",
       "1280454          1112491              670532       2009\n",
       "1280455            78081              670533       2009\n",
       "1280456           187904              670534       2009\n",
       "1280457           523837              670535       2009\n",
       "1280458          1632652              670536       2008\n",
       "\n",
       "[1279987 rows x 3 columns]>"
      ]
     },
     "metadata": {},
     "execution_count": 48
    }
   ],
   "source": [
    "net_df.head"
   ]
  },
  {
   "cell_type": "code",
   "execution_count": 45,
   "metadata": {},
   "outputs": [
    {
     "output_type": "execute_result",
     "data": {
      "text/plain": [
       "539593"
      ]
     },
     "metadata": {},
     "execution_count": 45
    }
   ],
   "source": [
    "len(net_df['OffenderIdentifier'].unique())"
   ]
  },
  {
   "cell_type": "code",
   "execution_count": 46,
   "metadata": {},
   "outputs": [
    {
     "output_type": "execute_result",
     "data": {
      "text/plain": [
       "1164836"
      ]
     },
     "metadata": {},
     "execution_count": 46
    }
   ],
   "source": [
    "len(net_df['CrimeIdentifier'].unique())"
   ]
  },
  {
   "cell_type": "code",
   "execution_count": 54,
   "metadata": {},
   "outputs": [
    {
     "output_type": "execute_result",
     "data": {
      "text/plain": [
       "2008    199288\n",
       "2007    196151\n",
       "2006    185840\n",
       "2009    178959\n",
       "2005    172664\n",
       "2004    121374\n",
       "2003    110556\n",
       "2010         4\n",
       "Name: CrimeYear, dtype: int64"
      ]
     },
     "metadata": {},
     "execution_count": 54
    }
   ],
   "source": [
    "year_df = df[['CrimeIdentifier','CrimeYear']]\n",
    "year_df = year_df.drop_duplicates()\n",
    "counts = year_df['CrimeYear'].value_counts()\n",
    "counts"
   ]
  },
  {
   "cell_type": "code",
   "execution_count": 55,
   "metadata": {},
   "outputs": [],
   "source": [
    "youth_df = df[['CrimeIdentifier','NumberYouthOffenders', 'NumberAdultOffenders']]\n",
    "youth_df = youth_df.drop_duplicates()"
   ]
  },
  {
   "cell_type": "code",
   "execution_count": 65,
   "metadata": {},
   "outputs": [],
   "source": [
    "youth_df['TotalOffenders'] = df['NumberYouthOffenders'] + df['NumberAdultOffenders']\n",
    "idx = youth_df['TotalOffenders'].idxmax(axis=1)"
   ]
  },
  {
   "cell_type": "code",
   "execution_count": 68,
   "metadata": {},
   "outputs": [
    {
     "output_type": "execute_result",
     "data": {
      "text/plain": [
       "OffenderIdentifier           47053\n",
       "OffenderGender                   M\n",
       "CrimeIdentifier              27849\n",
       "CrimeType1                 39999.0\n",
       "CrimeType2                     NaN\n",
       "CrimeType3                     NaN\n",
       "CrimeType4                     NaN\n",
       "Municipality                 66023\n",
       "CrimeLocation                  9.0\n",
       "NumberYouthOffenders             0\n",
       "NumberAdultOffenders           156\n",
       "CrimeDate               04/20/2009\n",
       "CrimeYear                     2009\n",
       "Name: 43313, dtype: object"
      ]
     },
     "metadata": {},
     "execution_count": 68
    }
   ],
   "source": [
    "df.loc[idx]"
   ]
  },
  {
   "cell_type": "code",
   "execution_count": null,
   "metadata": {},
   "outputs": [],
   "source": [
    "youth_df['CrimeIdentifier'].loc[idx]"
   ]
  },
  {
   "cell_type": "code",
   "execution_count": 71,
   "metadata": {},
   "outputs": [
    {
     "output_type": "execute_result",
     "data": {
      "text/plain": [
       "<bound method NDFrame.head of 300728    456\n",
       "440431    358\n",
       "253577    357\n",
       "120976    350\n",
       "373749    275\n",
       "         ... \n",
       "458050      1\n",
       "451905      1\n",
       "333119      1\n",
       "335166      1\n",
       "2047        1\n",
       "Name: OffenderIdentifier, Length: 539593, dtype: int64>"
      ]
     },
     "metadata": {},
     "execution_count": 71
    }
   ],
   "source": [
    "criminal_df = df[['OffenderIdentifier','CrimeIdentifier']]\n",
    "criminal_df = criminal_df.drop_duplicates()\n",
    "criminal_sum_df = criminal_df['OffenderIdentifier'].value_counts()\n",
    "criminal_sum_df.head"
   ]
  },
  {
   "cell_type": "code",
   "execution_count": 73,
   "metadata": {},
   "outputs": [],
   "source": [
    "idx = df['OffenderIdentifier'].value_counts().idxmax"
   ]
  },
  {
   "cell_type": "code",
   "execution_count": 76,
   "metadata": {},
   "outputs": [
    {
     "output_type": "execute_result",
     "data": {
      "text/plain": [
       "456"
      ]
     },
     "metadata": {},
     "execution_count": 76
    }
   ],
   "source": [
    "df['OffenderIdentifier'].value_counts().loc[idx]"
   ]
  },
  {
   "cell_type": "code",
   "execution_count": 75,
   "metadata": {},
   "outputs": [
    {
     "output_type": "execute_result",
     "data": {
      "text/plain": [
       "300728    456\n",
       "440431    358\n",
       "253577    357\n",
       "120976    350\n",
       "373749    275\n",
       "         ... \n",
       "513383      1\n",
       "511332      1\n",
       "521571      1\n",
       "523618      1\n",
       "2047        1\n",
       "Name: OffenderIdentifier, Length: 539593, dtype: int64"
      ]
     },
     "metadata": {},
     "execution_count": 75
    }
   ],
   "source": [
    "df['OffenderIdentifier'].value_counts()"
   ]
  },
  {
   "cell_type": "code",
   "execution_count": null,
   "metadata": {},
   "outputs": [],
   "source": []
  }
 ]
}